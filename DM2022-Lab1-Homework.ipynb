{
 "cells": [
  {
   "cell_type": "markdown",
   "metadata": {},
   "source": [
    "### Student Information\n",
    "Name: Didier Fernando Salazar Estrada - 利 葉\n",
    "\n",
    "Student ID: 111065427\n",
    "\n",
    "GitHub ID: difersalest"
   ]
  },
  {
   "cell_type": "markdown",
   "metadata": {},
   "source": [
    "---"
   ]
  },
  {
   "cell_type": "markdown",
   "metadata": {},
   "source": [
    "### Instructions"
   ]
  },
  {
   "cell_type": "markdown",
   "metadata": {},
   "source": [
    "1. First: do the **take home** exercises in the [DM2022-Lab1-Master](https://github.com/keziatamus/DM2022-Lab1-Master). You may need to copy some cells from the Lab notebook to this notebook. __This part is worth 20% of your grade.__\n",
    "\n",
    "\n",
    "2. Second: follow the same process from the [DM2022-Lab1-Master](https://github.com/keziatamus/DM2022-Lab1-Master) on **the new dataset**. You don't need to explain all details as we did (some **minimal comments** explaining your code are useful though).  __This part is worth 30% of your grade.__\n",
    "    - Download the [the new dataset](https://archive.ics.uci.edu/ml/datasets/Sentiment+Labelled+Sentences#). The dataset contains a `sentence` and `score` label. Read the specificiations of the dataset for details. \n",
    "    - You are allowed to use and modify the `helper` functions in the folder of the first lab session (notice they may need modification) or create your own.\n",
    "\n",
    "\n",
    "3. Third: please attempt the following tasks on **the new dataset**. __This part is worth 30% of your grade.__\n",
    "    - Generate meaningful **new data visualizations**. Refer to online resources and the Data Mining textbook for inspiration and ideas. \n",
    "    - Generate **TF-IDF features** from the tokens of each text. This will generating a document matrix, however, the weights will be computed differently (using the TF-IDF value of each word per document as opposed to the word frequency). Refer to this Sciki-learn [guide](http://scikit-learn.org/stable/modules/generated/sklearn.feature_extraction.text.TfidfVectorizer.html) .\n",
    "    - Implement a simple **Naive Bayes classifier** that automatically classifies the records into their categories. Use both the TF-IDF features and word frequency features to build two seperate classifiers. Comment on the differences.  Refer to this [article](https://hub.packtpub.com/implementing-3-naive-bayes-classifiers-in-scikit-learn/).\n",
    "\n",
    "\n",
    "4. Fourth: In the lab, we applied each step really quickly just to illustrate how to work with your dataset. There are somethings that are not ideal or the most efficient/meaningful. Each dataset can be habdled differently as well. What are those inefficent parts you noticed? How can you improve the Data preprocessing for these specific datasets? __This part is worth 10% of your grade.__\n",
    "\n",
    "\n",
    "5. Fifth: It's hard for us to follow if your code is messy, so please **tidy up your notebook** and **add minimal comments where needed**. __This part is worth 10% of your grade.__\n",
    "\n",
    "\n",
    "You can submit your homework following these guidelines: [Git Intro & How to hand your homework](https://github.com/keziatamus/DM2022-Lab1-Homework/blob/main/Git%20Intro%20%26%20How%20to%20hand%20your%20homework.ipynb). Make sure to commit and save your changes to your repository __BEFORE the deadline (October 20th 11:59 pm, Thursday)__. "
   ]
  },
  {
   "cell_type": "code",
   "execution_count": 5,
   "metadata": {},
   "outputs": [
    {
     "name": "stdout",
     "output_type": "stream",
     "text": [
      "The autoreload extension is already loaded. To reload it, use:\n",
      "  %reload_ext autoreload\n"
     ]
    }
   ],
   "source": [
    "### Begin Assignment Here\n",
    "# TEST necessary for when working with external scripts\n",
    "%load_ext autoreload\n",
    "%autoreload 2"
   ]
  },
  {
   "cell_type": "code",
   "execution_count": 139,
   "metadata": {},
   "outputs": [],
   "source": [
    "#We start by importing our data from the text files as lists, each line corresponds to an item in the list\n",
    "with open('amazon_cells_labelled.txt') as f:\n",
    "    amazon = f.readlines()\n",
    "with open('imdb_labelled.txt') as f:\n",
    "    imdb = f.readlines()\n",
    "with open('yelp_labelled.txt') as f:\n",
    "    yelp = f.readlines()\n",
    "\n",
    "#Now we want to split the corresponding data into the two categories, the sentence and its corresponding score \n",
    "amazon_sep=[]\n",
    "imdb_sep=[]\n",
    "yelp_sep=[]\n",
    "amazon_sent=[]\n",
    "imdb_sent=[]\n",
    "yelp_sent=[]\n",
    "amazon_score=[]\n",
    "imdb_score=[]\n",
    "yelp_score=[]\n",
    "#We navigate into the lists, clear the data by eliminating the '\\n' at the end and split into two columns following the format '\\t'.\n",
    "#In this way we will have from one side the sentence and in the other the score.\n",
    "for x in range(len(amazon)):\n",
    "    amazon_sep.append(amazon[x].removesuffix('\\n').split('\\t'))\n",
    "    imdb_sep.append(imdb[x].removesuffix('\\n').split('\\t'))\n",
    "    yelp_sep.append(yelp[x].removesuffix('\\n').split('\\t'))\n",
    "\n",
    "#We separate the sentences and scores accordingly to create the categories later\n",
    "sentences=[]\n",
    "scores=[]\n",
    "for x in range(len(amazon_sep)):\n",
    "    amazon_sent.append(amazon_sep[x][0])\n",
    "    amazon_score.append(amazon_sep[x][1])\n",
    "    imdb_sent.append(imdb_sep[x][0])\n",
    "    imdb_score.append(imdb_sep[x][1])\n",
    "    yelp_sent.append(yelp_sep[x][0])\n",
    "    yelp_score.append(yelp_sep[x][1])\n",
    "\n",
    "#We integrate the sentences and scores accordingly from each site\n",
    "sentences.extend(amazon_sent)\n",
    "sentences.extend(imdb_sent)\n",
    "sentences.extend(yelp_sent)\n",
    "scores.extend(amazon_score)\n",
    "scores.extend(imdb_score)\n",
    "scores.extend(yelp_score)\n",
    "\n",
    "\n",
    "#Because every sentence and score is separated each every 1000 item in the list we can create new categories, naming them for each site in that order too.\n",
    "#Categories: amazon, imdb and yelp\n",
    "category_name=[]\n",
    "for x in range(3000):\n",
    "    if x<1000:\n",
    "        category_name.append('amazon')\n",
    "    if x>=1000 and x<2000:\n",
    "        category_name.append('imdb')\n",
    "    if x>=2000 and x<3000:\n",
    "        category_name.append('yelp')\n"
   ]
  },
  {
   "cell_type": "code",
   "execution_count": 145,
   "metadata": {},
   "outputs": [
    {
     "data": {
      "text/html": [
       "<div>\n",
       "<style scoped>\n",
       "    .dataframe tbody tr th:only-of-type {\n",
       "        vertical-align: middle;\n",
       "    }\n",
       "\n",
       "    .dataframe tbody tr th {\n",
       "        vertical-align: top;\n",
       "    }\n",
       "\n",
       "    .dataframe thead th {\n",
       "        text-align: right;\n",
       "    }\n",
       "</style>\n",
       "<table border=\"1\" class=\"dataframe\">\n",
       "  <thead>\n",
       "    <tr style=\"text-align: right;\">\n",
       "      <th></th>\n",
       "      <th>Sentences</th>\n",
       "      <th>Score</th>\n",
       "      <th>Category_name</th>\n",
       "    </tr>\n",
       "  </thead>\n",
       "  <tbody>\n",
       "    <tr>\n",
       "      <th>0</th>\n",
       "      <td>So there is no way for me to plug it in here i...</td>\n",
       "      <td>0</td>\n",
       "      <td>amazon</td>\n",
       "    </tr>\n",
       "    <tr>\n",
       "      <th>1</th>\n",
       "      <td>Good case, Excellent value.</td>\n",
       "      <td>1</td>\n",
       "      <td>amazon</td>\n",
       "    </tr>\n",
       "    <tr>\n",
       "      <th>2</th>\n",
       "      <td>Great for the jawbone.</td>\n",
       "      <td>1</td>\n",
       "      <td>amazon</td>\n",
       "    </tr>\n",
       "    <tr>\n",
       "      <th>3</th>\n",
       "      <td>Tied to charger for conversations lasting more...</td>\n",
       "      <td>0</td>\n",
       "      <td>amazon</td>\n",
       "    </tr>\n",
       "    <tr>\n",
       "      <th>4</th>\n",
       "      <td>The mic is great.</td>\n",
       "      <td>1</td>\n",
       "      <td>amazon</td>\n",
       "    </tr>\n",
       "    <tr>\n",
       "      <th>...</th>\n",
       "      <td>...</td>\n",
       "      <td>...</td>\n",
       "      <td>...</td>\n",
       "    </tr>\n",
       "    <tr>\n",
       "      <th>2995</th>\n",
       "      <td>I think food should have flavor and texture an...</td>\n",
       "      <td>0</td>\n",
       "      <td>yelp</td>\n",
       "    </tr>\n",
       "    <tr>\n",
       "      <th>2996</th>\n",
       "      <td>Appetite instantly gone.</td>\n",
       "      <td>0</td>\n",
       "      <td>yelp</td>\n",
       "    </tr>\n",
       "    <tr>\n",
       "      <th>2997</th>\n",
       "      <td>Overall I was not impressed and would not go b...</td>\n",
       "      <td>0</td>\n",
       "      <td>yelp</td>\n",
       "    </tr>\n",
       "    <tr>\n",
       "      <th>2998</th>\n",
       "      <td>The whole experience was underwhelming, and I ...</td>\n",
       "      <td>0</td>\n",
       "      <td>yelp</td>\n",
       "    </tr>\n",
       "    <tr>\n",
       "      <th>2999</th>\n",
       "      <td>Then, as if I hadn't wasted enough of my life ...</td>\n",
       "      <td>0</td>\n",
       "      <td>yelp</td>\n",
       "    </tr>\n",
       "  </tbody>\n",
       "</table>\n",
       "<p>3000 rows × 3 columns</p>\n",
       "</div>"
      ],
      "text/plain": [
       "                                              Sentences Score Category_name\n",
       "0     So there is no way for me to plug it in here i...     0        amazon\n",
       "1                           Good case, Excellent value.     1        amazon\n",
       "2                                Great for the jawbone.     1        amazon\n",
       "3     Tied to charger for conversations lasting more...     0        amazon\n",
       "4                                     The mic is great.     1        amazon\n",
       "...                                                 ...   ...           ...\n",
       "2995  I think food should have flavor and texture an...     0          yelp\n",
       "2996                           Appetite instantly gone.     0          yelp\n",
       "2997  Overall I was not impressed and would not go b...     0          yelp\n",
       "2998  The whole experience was underwhelming, and I ...     0          yelp\n",
       "2999  Then, as if I hadn't wasted enough of my life ...     0          yelp\n",
       "\n",
       "[3000 rows x 3 columns]"
      ]
     },
     "execution_count": 145,
     "metadata": {},
     "output_type": "execute_result"
    }
   ],
   "source": [
    "import pandas as pd\n",
    "import helpers.data_mining_helpers as dmh\n",
    "#Here is the data frame, with the columns made by the sentences, scores, the category assigned and the respective name of the site where the reviews where done.\n",
    "X = pd.DataFrame(sentences,columns=['Sentences'])\n",
    "X['Score']=scores\n",
    "X['Category_name']=category_name\n",
    "X"
   ]
  },
  {
   "cell_type": "code",
   "execution_count": 146,
   "metadata": {},
   "outputs": [
    {
     "name": "stdout",
     "output_type": "stream",
     "text": [
      "0     So there is no way for me to plug it in here i...\n",
      "1                           Good case, Excellent value.\n",
      "2                                Great for the jawbone.\n",
      "3     Tied to charger for conversations lasting more...\n",
      "4                                     The mic is great.\n",
      "5     I have to jiggle the plug to get it to line up...\n",
      "6     If you have several dozen or several hundred c...\n",
      "7           If you are Razr owner...you must have this!\n",
      "8                   Needless to say, I wasted my money.\n",
      "9                      What a waste of money and time!.\n",
      "10                      And the sound quality is great.\n",
      "Name: Sentences, dtype: object\n",
      "995     The screen does get smudged easily because it ...\n",
      "996     What a piece of junk.. I lose more calls on th...\n",
      "997                          Item Does Not Match Picture.\n",
      "998     The only thing that disappoint me is the infra...\n",
      "999     You can not answer calls with the unit, never ...\n",
      "1000    A very, very, very slow-moving, aimless movie ...\n",
      "1001    Not sure who was more lost - the flat characte...\n",
      "1002    Attempting artiness with black & white and cle...\n",
      "1003         Very little music or anything to speak of.  \n",
      "1004    The best scene in the movie was when Gerardo i...\n",
      "Name: Sentences, dtype: object\n",
      "                                              Sentences Score Category_name\n",
      "1                           Good case, Excellent value.     1        amazon\n",
      "1001  Not sure who was more lost - the flat characte...     0          imdb\n",
      "2001                                 Crust is not good.     0          yelp\n"
     ]
    }
   ],
   "source": [
    "#Querying the data using different functions\n",
    "print(X.loc[:10, 'Sentences'])\n",
    "print(X.iloc[995:1005, 0])\n",
    "print(X.reindex([1,1001,2001]))"
   ]
  },
  {
   "cell_type": "code",
   "execution_count": 147,
   "metadata": {},
   "outputs": [
    {
     "name": "stdout",
     "output_type": "stream",
     "text": [
      "                                            Sentences Score Category_name\n",
      "0   So there is no way for me to plug it in here i...     0        amazon\n",
      "10                    And the sound quality is great.     1        amazon\n",
      "20  I went on Motorola's website and followed all ...     0        amazon\n",
      "30  This is a simple little phone to use, but the ...     0        amazon\n",
      "40  It has a great camera thats 2MP, and the pics ...     1        amazon\n"
     ]
    }
   ],
   "source": [
    "print(X[X['Category_name']=='amazon'].iloc[::10][0:5]) #First 5 amazon sentences spacing 10 items between each of them for the query"
   ]
  },
  {
   "cell_type": "code",
   "execution_count": 148,
   "metadata": {},
   "outputs": [
    {
     "data": {
      "text/plain": [
       "0       (The amoung of missing records is: , 0)\n",
       "1       (The amoung of missing records is: , 0)\n",
       "2       (The amoung of missing records is: , 0)\n",
       "3       (The amoung of missing records is: , 0)\n",
       "4       (The amoung of missing records is: , 0)\n",
       "                         ...                   \n",
       "2995    (The amoung of missing records is: , 0)\n",
       "2996    (The amoung of missing records is: , 0)\n",
       "2997    (The amoung of missing records is: , 0)\n",
       "2998    (The amoung of missing records is: , 0)\n",
       "2999    (The amoung of missing records is: , 0)\n",
       "Length: 3000, dtype: object"
      ]
     },
     "execution_count": 148,
     "metadata": {},
     "output_type": "execute_result"
    }
   ],
   "source": [
    "X.isnull().apply(lambda x: dmh.check_missing_values(x),axis=1) #There are no null items in the data set"
   ]
  },
  {
   "cell_type": "code",
   "execution_count": 150,
   "metadata": {},
   "outputs": [
    {
     "data": {
      "text/html": [
       "<div>\n",
       "<style scoped>\n",
       "    .dataframe tbody tr th:only-of-type {\n",
       "        vertical-align: middle;\n",
       "    }\n",
       "\n",
       "    .dataframe tbody tr th {\n",
       "        vertical-align: top;\n",
       "    }\n",
       "\n",
       "    .dataframe thead th {\n",
       "        text-align: right;\n",
       "    }\n",
       "</style>\n",
       "<table border=\"1\" class=\"dataframe\">\n",
       "  <thead>\n",
       "    <tr style=\"text-align: right;\">\n",
       "      <th></th>\n",
       "      <th>Sentences</th>\n",
       "      <th>Score</th>\n",
       "      <th>Category_name</th>\n",
       "    </tr>\n",
       "  </thead>\n",
       "  <tbody>\n",
       "    <tr>\n",
       "      <th>2280</th>\n",
       "      <td>I went to Bachi Burger on a friend's recommend...</td>\n",
       "      <td>1</td>\n",
       "      <td>yelp</td>\n",
       "    </tr>\n",
       "    <tr>\n",
       "      <th>2414</th>\n",
       "      <td>I can take a little bad service but the food s...</td>\n",
       "      <td>0</td>\n",
       "      <td>yelp</td>\n",
       "    </tr>\n",
       "    <tr>\n",
       "      <th>136</th>\n",
       "      <td>Very good stuff for the price.</td>\n",
       "      <td>1</td>\n",
       "      <td>amazon</td>\n",
       "    </tr>\n",
       "    <tr>\n",
       "      <th>2085</th>\n",
       "      <td>I love the Pho and the spring rolls oh so yumm...</td>\n",
       "      <td>1</td>\n",
       "      <td>yelp</td>\n",
       "    </tr>\n",
       "    <tr>\n",
       "      <th>1335</th>\n",
       "      <td>It was a very superficial movie and it gave me...</td>\n",
       "      <td>0</td>\n",
       "      <td>imdb</td>\n",
       "    </tr>\n",
       "    <tr>\n",
       "      <th>...</th>\n",
       "      <td>...</td>\n",
       "      <td>...</td>\n",
       "      <td>...</td>\n",
       "    </tr>\n",
       "    <tr>\n",
       "      <th>2345</th>\n",
       "      <td>Pretty good beer selection too.</td>\n",
       "      <td>1</td>\n",
       "      <td>yelp</td>\n",
       "    </tr>\n",
       "    <tr>\n",
       "      <th>383</th>\n",
       "      <td>After trying many many handsfree gadgets this ...</td>\n",
       "      <td>1</td>\n",
       "      <td>amazon</td>\n",
       "    </tr>\n",
       "    <tr>\n",
       "      <th>378</th>\n",
       "      <td>Clear Skype Calls, Long Battery Life, Long Range.</td>\n",
       "      <td>1</td>\n",
       "      <td>amazon</td>\n",
       "    </tr>\n",
       "    <tr>\n",
       "      <th>47</th>\n",
       "      <td>AFTER ARGUING WITH VERIZON REGARDING THE DROPP...</td>\n",
       "      <td>0</td>\n",
       "      <td>amazon</td>\n",
       "    </tr>\n",
       "    <tr>\n",
       "      <th>147</th>\n",
       "      <td>Its reception is very very poor.</td>\n",
       "      <td>0</td>\n",
       "      <td>amazon</td>\n",
       "    </tr>\n",
       "  </tbody>\n",
       "</table>\n",
       "<p>300 rows × 3 columns</p>\n",
       "</div>"
      ],
      "text/plain": [
       "                                              Sentences Score Category_name\n",
       "2280  I went to Bachi Burger on a friend's recommend...     1          yelp\n",
       "2414  I can take a little bad service but the food s...     0          yelp\n",
       "136                      Very good stuff for the price.     1        amazon\n",
       "2085  I love the Pho and the spring rolls oh so yumm...     1          yelp\n",
       "1335  It was a very superficial movie and it gave me...     0          imdb\n",
       "...                                                 ...   ...           ...\n",
       "2345                    Pretty good beer selection too.     1          yelp\n",
       "383   After trying many many handsfree gadgets this ...     1        amazon\n",
       "378   Clear Skype Calls, Long Battery Life, Long Range.     1        amazon\n",
       "47    AFTER ARGUING WITH VERIZON REGARDING THE DROPP...     0        amazon\n",
       "147                    Its reception is very very poor.     0        amazon\n",
       "\n",
       "[300 rows x 3 columns]"
      ]
     },
     "execution_count": 150,
     "metadata": {},
     "output_type": "execute_result"
    }
   ],
   "source": [
    "X_sample = X.sample(frac=0.1) #I sampled 10% of the data for the model to be trained.\n",
    "X_sample"
   ]
  },
  {
   "cell_type": "code",
   "execution_count": 152,
   "metadata": {},
   "outputs": [],
   "source": [
    "#Import the related libraries to plot and do calculations\n",
    "import numpy as np\n",
    "import matplotlib.pyplot as plt\n",
    "%matplotlib inline"
   ]
  },
  {
   "cell_type": "code",
   "execution_count": 166,
   "metadata": {},
   "outputs": [
    {
     "name": "stdout",
     "output_type": "stream",
     "text": [
      "amazon    1000\n",
      "imdb      1000\n",
      "yelp      1000\n",
      "Name: Category_name, dtype: int64\n"
     ]
    },
    {
     "data": {
      "text/plain": [
       "<AxesSubplot: title={'center': 'Total Category Distribution'}>"
      ]
     },
     "execution_count": 166,
     "metadata": {},
     "output_type": "execute_result"
    },
    {
     "data": {
      "image/png": "[encoded data removed]",
      "text/plain": [
       "<Figure size 800x300 with 1 Axes>"
      ]
     },
     "metadata": {},
     "output_type": "display_data"
    }
   ],
   "source": [
    "print(X.Category_name.value_counts()) #There are 1000 items per category (amazon, imdb and yelp) according to the general data set\n",
    "\n",
    "# plot barchart for X\n",
    "X.Category_name.value_counts().plot(kind = 'bar',\n",
    "                                    title = 'Total Category Distribution',\n",
    "                                    ylim = [0, max(X.Category_name.value_counts())+20],        \n",
    "                                    rot = 0, fontsize = 11, figsize = (8,3))"
   ]
  },
  {
   "cell_type": "code",
   "execution_count": 165,
   "metadata": {},
   "outputs": [
    {
     "name": "stdout",
     "output_type": "stream",
     "text": [
      "0    1500\n",
      "1    1500\n",
      "Name: Score, dtype: int64\n"
     ]
    },
    {
     "data": {
      "text/plain": [
       "<AxesSubplot: title={'center': 'Total Score Distribution'}>"
      ]
     },
     "execution_count": 165,
     "metadata": {},
     "output_type": "execute_result"
    },
    {
     "data": {
      "image/png": "[encoded data removed]",
      "text/plain": [
       "<Figure size 800x300 with 1 Axes>"
      ]
     },
     "metadata": {},
     "output_type": "display_data"
    }
   ],
   "source": [
    "print(X.Score.value_counts()) #There are 500 negative and 500 positive scores (0-negative and 1-positive) according to the data set\n",
    "#1500 in total making the sum for each of the category names (amazon, imdb and yelp)\n",
    "\n",
    "# plot barchart for X\n",
    "X.Score.value_counts().plot(kind = 'bar',\n",
    "                                    title = 'Total Score Distribution',\n",
    "                                    ylim = [0, max(X.Score.value_counts())+20],        \n",
    "                                    rot = 0, fontsize = 11, figsize = (8,3))"
   ]
  },
  {
   "cell_type": "code",
   "execution_count": 167,
   "metadata": {},
   "outputs": [
    {
     "name": "stdout",
     "output_type": "stream",
     "text": [
      "imdb      105\n",
      "yelp      103\n",
      "amazon     92\n",
      "Name: Category_name, dtype: int64\n"
     ]
    },
    {
     "data": {
      "text/plain": [
       "<AxesSubplot: title={'center': 'Sampled Category Distribution'}>"
      ]
     },
     "execution_count": 167,
     "metadata": {},
     "output_type": "execute_result"
    },
    {
     "data": {
      "image/png": "[encoded data removed]",
      "text/plain": [
       "<Figure size 800x300 with 1 Axes>"
      ]
     },
     "metadata": {},
     "output_type": "display_data"
    }
   ],
   "source": [
    "#We sampled 10% of the total of items, now we see how is the distribution with some graphs for the categories\n",
    "# plot barchart for X_sample\n",
    "print(X_sample.Category_name.value_counts())\n",
    "\n",
    "# plot barchart for X_sample\n",
    "X_sample.Category_name.value_counts().plot(kind = 'bar',\n",
    "                                           title = 'Sampled Category Distribution',\n",
    "                                           ylim = [0, max(X_sample.Category_name.value_counts())+20], \n",
    "                                           rot = 0, fontsize = 12, figsize = (8,3))"
   ]
  },
  {
   "cell_type": "code",
   "execution_count": 168,
   "metadata": {},
   "outputs": [
    {
     "name": "stdout",
     "output_type": "stream",
     "text": [
      "0    159\n",
      "1    141\n",
      "Name: Score, dtype: int64\n"
     ]
    },
    {
     "data": {
      "text/plain": [
       "<AxesSubplot: title={'center': 'Sampled Score Distribution'}>"
      ]
     },
     "execution_count": 168,
     "metadata": {},
     "output_type": "execute_result"
    },
    {
     "data": {
      "image/png": "[encoded data removed]",
      "text/plain": [
       "<Figure size 800x300 with 1 Axes>"
      ]
     },
     "metadata": {},
     "output_type": "display_data"
    }
   ],
   "source": [
    "#We sampled 10% of the total of items, now we see how is the distribution with some graphs for the scores (0-negative and 1-positive)\n",
    "# plot barchart for X_sample\n",
    "print(X_sample.Score.value_counts())\n",
    "\n",
    "# plot barchart for X_sample\n",
    "X_sample.Score.value_counts().plot(kind = 'bar',\n",
    "                                           title = 'Sampled Score Distribution',\n",
    "                                           ylim = [0, max(X_sample.Score.value_counts())+20], \n",
    "                                           rot = 0, fontsize = 12, figsize = (8,3))"
   ]
  },
  {
   "cell_type": "code",
   "execution_count": 154,
   "metadata": {},
   "outputs": [
    {
     "data": {
      "image/png": "[encoded data removed]",
      "text/plain": [
       "<Figure size 1000x500 with 1 Axes>"
      ]
     },
     "metadata": {},
     "output_type": "display_data"
    }
   ],
   "source": [
    "#There are 3 categories: amazon, imdb and yelp. Each of them in the total data set have 1000 sentences.\n",
    "#Items side by side per category\n",
    "# Number of bars per category\n",
    "N = 3\n",
    "\n",
    "# Position of the categories in x-axis\n",
    "ind = np.arange(N)\n",
    "\n",
    "# Graph size\n",
    "plt.figure(figsize=(10,5))\n",
    "\n",
    "# Width of the bar \n",
    "width = 0.25      \n",
    "\n",
    "# Plotting the required graph\n",
    "plt.bar(ind, X.Category_name.value_counts() , width, label='Without sampling')\n",
    "plt.bar(ind + width, X_sample.Category_name.value_counts(), width, label='Sampled values')\n",
    "\n",
    "#Labels\n",
    "plt.xlabel('Category name')\n",
    "plt.ylabel('Total items')\n",
    "plt.title('Number of items per category')\n",
    "\n",
    "#Bar titles\n",
    "plt.xticks(ind + width / 2, (list(dict(X.Category_name.value_counts()))[0],list(dict(X.Category_name.value_counts()))[1],list(dict(X.Category_name.value_counts()))[2]))\n",
    "\n",
    "# The legends will be put on the best position\n",
    "plt.legend(loc='best')\n",
    "plt.show()"
   ]
  },
  {
   "cell_type": "code",
   "execution_count": 169,
   "metadata": {},
   "outputs": [
    {
     "data": {
      "image/png": "[encoded data removed]",
      "text/plain": [
       "<Figure size 1000x500 with 1 Axes>"
      ]
     },
     "metadata": {},
     "output_type": "display_data"
    }
   ],
   "source": [
    "#There are 2 type of scores (0-negative and 1-positive) 1500 for each one in the general data set\n",
    "#Items side by side per scores\n",
    "# Number of bars per category\n",
    "N = 2\n",
    "\n",
    "# Position of the categories in x-axis\n",
    "ind = np.arange(N)\n",
    "\n",
    "# Graph size\n",
    "plt.figure(figsize=(10,5))\n",
    "\n",
    "# Width of the bar \n",
    "width = 0.25      \n",
    "\n",
    "# Plotting the required graph\n",
    "plt.bar(ind, X.Score.value_counts() , width, label='Without sampling')\n",
    "plt.bar(ind + width, X_sample.Score.value_counts(), width, label='Sampled values')\n",
    "\n",
    "#Labels\n",
    "plt.xlabel('Category name')\n",
    "plt.ylabel('Total items')\n",
    "plt.title('Number of items per score')\n",
    "\n",
    "#Bar titles\n",
    "plt.xticks(ind + width / 2, (list(dict(X.Score.value_counts()))[0],list(dict(X.Score.value_counts()))[1]))\n",
    "\n",
    "# The legends will be put on the best position\n",
    "plt.legend(loc='best')\n",
    "plt.show()"
   ]
  },
  {
   "cell_type": "code",
   "execution_count": null,
   "metadata": {},
   "outputs": [],
   "source": []
  }
 ],
 "metadata": {
  "kernelspec": {
   "display_name": "Python 3 (ipykernel)",
   "language": "python",
   "name": "python3"
  },
  "language_info": {
   "codemirror_mode": {
    "name": "ipython",
    "version": 3
   },
   "file_extension": ".py",
   "mimetype": "text/x-python",
   "name": "python",
   "nbconvert_exporter": "python",
   "pygments_lexer": "ipython3",
   "version": "3.9.6"
  }
 },
 "nbformat": 4,
 "nbformat_minor": 2
}
